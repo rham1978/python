{
 "cells": [
  {
   "cell_type": "markdown",
   "id": "10b48e1a",
   "metadata": {},
   "source": [
    "Ejercicio N°1"
   ]
  },
  {
   "cell_type": "code",
   "execution_count": 42,
   "id": "5ec9a662",
   "metadata": {},
   "outputs": [],
   "source": [
    "lista = [\"manzana\", \"pera\", \"naranja\", \"plátano\", \"kiwi\", \"uva\", \"piña\",\"mango\", \"sandía\", \"melón\"]"
   ]
  },
  {
   "cell_type": "markdown",
   "id": "e8309847",
   "metadata": {},
   "source": [
    "a.- Imprime el quinto elemento de la lista."
   ]
  },
  {
   "cell_type": "code",
   "execution_count": 43,
   "id": "0f362385",
   "metadata": {},
   "outputs": [
    {
     "name": "stdout",
     "output_type": "stream",
     "text": [
      "kiwi\n"
     ]
    }
   ],
   "source": [
    "print(lista[4])"
   ]
  },
  {
   "cell_type": "markdown",
   "id": "b865f21f",
   "metadata": {},
   "source": [
    "b.-Imprime del cuarto al sexto inclusive."
   ]
  },
  {
   "cell_type": "code",
   "execution_count": 44,
   "id": "3e8e0b67",
   "metadata": {},
   "outputs": [
    {
     "name": "stdout",
     "output_type": "stream",
     "text": [
      "['plátano', 'kiwi', 'uva']\n"
     ]
    }
   ],
   "source": [
    "print(lista[3:6])"
   ]
  },
  {
   "cell_type": "code",
   "execution_count": 45,
   "id": "64f3366e",
   "metadata": {},
   "outputs": [
    {
     "name": "stdout",
     "output_type": "stream",
     "text": [
      "plátano\n",
      "kiwi\n",
      "uva\n"
     ]
    }
   ],
   "source": [
    "i=3\n",
    "while i <= 5:\n",
    "    print(lista[i])\n",
    "    i=i+1\n",
    "    \n",
    "\n",
    "\n"
   ]
  },
  {
   "cell_type": "markdown",
   "id": "1d6dc848",
   "metadata": {},
   "source": [
    "c. Elimina el elemento en la posición 3"
   ]
  },
  {
   "cell_type": "code",
   "execution_count": 46,
   "id": "a17e2758",
   "metadata": {},
   "outputs": [],
   "source": [
    "lista.remove(lista[2])"
   ]
  },
  {
   "cell_type": "code",
   "execution_count": 47,
   "id": "7ee7e6a2",
   "metadata": {},
   "outputs": [
    {
     "name": "stdout",
     "output_type": "stream",
     "text": [
      "['manzana', 'pera', 'plátano', 'kiwi', 'uva', 'piña', 'mango', 'sandía', 'melón']\n"
     ]
    }
   ],
   "source": [
    "print(lista)"
   ]
  },
  {
   "cell_type": "markdown",
   "id": "89dd1f0c",
   "metadata": {},
   "source": [
    "d. Agrega dos nuevos elementos a la lista"
   ]
  },
  {
   "cell_type": "code",
   "execution_count": 48,
   "id": "da686e04",
   "metadata": {},
   "outputs": [],
   "source": [
    "lista = [\"manzana\", \"pera\", \"naranja\", \"plátano\", \"kiwi\", \"uva\", \"piña\",\"mango\", \"sandía\", \"melón\"]"
   ]
  },
  {
   "cell_type": "code",
   "execution_count": 49,
   "id": "3ec21641",
   "metadata": {},
   "outputs": [],
   "source": [
    "lista.append('durazno')"
   ]
  },
  {
   "cell_type": "code",
   "execution_count": 50,
   "id": "ee43cec7",
   "metadata": {},
   "outputs": [],
   "source": [
    "lista.append('frutilla')"
   ]
  },
  {
   "cell_type": "code",
   "execution_count": 51,
   "id": "d965794a",
   "metadata": {},
   "outputs": [
    {
     "name": "stdout",
     "output_type": "stream",
     "text": [
      "['manzana', 'pera', 'naranja', 'plátano', 'kiwi', 'uva', 'piña', 'mango', 'sandía', 'melón', 'durazno', 'frutilla']\n"
     ]
    }
   ],
   "source": [
    "print(lista)"
   ]
  },
  {
   "cell_type": "markdown",
   "id": "e08a26c3",
   "metadata": {},
   "source": [
    "Ordena la lista alfabéticamente."
   ]
  },
  {
   "cell_type": "code",
   "execution_count": 52,
   "id": "e4d55da2",
   "metadata": {},
   "outputs": [],
   "source": [
    "lista.sort()"
   ]
  },
  {
   "cell_type": "code",
   "execution_count": 53,
   "id": "2d3432cc",
   "metadata": {},
   "outputs": [
    {
     "name": "stdout",
     "output_type": "stream",
     "text": [
      "['durazno', 'frutilla', 'kiwi', 'mango', 'manzana', 'melón', 'naranja', 'pera', 'piña', 'plátano', 'sandía', 'uva']\n"
     ]
    }
   ],
   "source": [
    "print(lista)"
   ]
  },
  {
   "cell_type": "markdown",
   "id": "e7fee814",
   "metadata": {},
   "source": [
    "f. Genera un diccionario usando lista1 como llaves y lista como valores."
   ]
  },
  {
   "cell_type": "code",
   "execution_count": 54,
   "id": "b329e960",
   "metadata": {},
   "outputs": [],
   "source": [
    "lista = [\"manzana\", \"pera\", \"naranja\", \"plátano\", \"kiwi\", \"uva\", \"piña\",\"mango\", \"sandía\", \"melón\"]"
   ]
  },
  {
   "cell_type": "code",
   "execution_count": 55,
   "id": "ef1ecf9d",
   "metadata": {},
   "outputs": [],
   "source": [
    "lista1 = [\"uno\", \"dos\", \"tres\", \"cuatro\", \"cinco\", \"seis\", \"siete\", \"ocho\", \"nueve\", \"diez\"]"
   ]
  },
  {
   "cell_type": "code",
   "execution_count": 56,
   "id": "c4ae7de3",
   "metadata": {},
   "outputs": [],
   "source": [
    "diccionario_frutas= dict(zip(lista,lista1))"
   ]
  },
  {
   "cell_type": "code",
   "execution_count": 57,
   "id": "7acf3746",
   "metadata": {},
   "outputs": [
    {
     "name": "stdout",
     "output_type": "stream",
     "text": [
      "{'manzana': 'uno', 'pera': 'dos', 'naranja': 'tres', 'plátano': 'cuatro', 'kiwi': 'cinco', 'uva': 'seis', 'piña': 'siete', 'mango': 'ocho', 'sandía': 'nueve', 'melón': 'diez'}\n"
     ]
    }
   ],
   "source": [
    "print (diccionario_frutas)"
   ]
  },
  {
   "cell_type": "code",
   "execution_count": null,
   "id": "2eb96192",
   "metadata": {},
   "outputs": [],
   "source": []
  },
  {
   "cell_type": "markdown",
   "id": "021c230d",
   "metadata": {},
   "source": [
    "Ejercicio N°1"
   ]
  },
  {
   "cell_type": "code",
   "execution_count": 58,
   "id": "9b4e449b",
   "metadata": {},
   "outputs": [],
   "source": [
    "#Importa la librería NumPy.\n",
    "\n",
    "import numpy as np  "
   ]
  },
  {
   "cell_type": "code",
   "execution_count": 59,
   "id": "a01cdf35",
   "metadata": {},
   "outputs": [],
   "source": [
    "#Carga los datos del archivo csv en una variable llamada array,\n",
    "\n",
    "array=np.loadtxt(\"C:/Users/Lenovo/Desktop/Boot Camp/Python/Desafio_3/alcohol_cerveza.csv\", delimiter=',', dtype=float)"
   ]
  },
  {
   "cell_type": "code",
   "execution_count": 60,
   "id": "f7c32794",
   "metadata": {},
   "outputs": [
    {
     "name": "stdout",
     "output_type": "stream",
     "text": [
      "[0.   5.06 4.29 ... 4.68 5.12 4.92]\n"
     ]
    }
   ],
   "source": [
    "print(array)"
   ]
  },
  {
   "cell_type": "code",
   "execution_count": 61,
   "id": "5e243531",
   "metadata": {},
   "outputs": [],
   "source": [
    "# Calcula la media de los datos utilizando la función mean de NumPy y almacena el resultado en una variable llamada media.\n",
    "\n",
    "media = np.mean(array)\n",
    "\n"
   ]
  },
  {
   "cell_type": "code",
   "execution_count": 62,
   "id": "957a8171",
   "metadata": {},
   "outputs": [
    {
     "name": "stdout",
     "output_type": "stream",
     "text": [
      "5.005334665334665\n"
     ]
    }
   ],
   "source": [
    "print(media)"
   ]
  },
  {
   "cell_type": "code",
   "execution_count": 63,
   "id": "cdfba0c1",
   "metadata": {},
   "outputs": [],
   "source": [
    "# Calcula la desviación estándar de los datos utilizando la función std de NumPy y almacena el resultado en una variable\n",
    "# llamada  desviacion.\n",
    "\n",
    "desviacion = np.std(array)\n",
    "\n"
   ]
  },
  {
   "cell_type": "code",
   "execution_count": 64,
   "id": "9702b168",
   "metadata": {},
   "outputs": [
    {
     "name": "stdout",
     "output_type": "stream",
     "text": [
      "0.34934892044901755\n"
     ]
    }
   ],
   "source": [
    "print(desviacion)"
   ]
  },
  {
   "cell_type": "code",
   "execution_count": 65,
   "id": "f4ec997c",
   "metadata": {},
   "outputs": [],
   "source": [
    "# Calcula el límite inferior de control (LIC) utilizando la fórmula: media - (3 * desviacion) y almacena el resultado \n",
    "# en una variable llamada lic.\n",
    "\n",
    "\n",
    "lic = media - (3*desviacion)"
   ]
  },
  {
   "cell_type": "code",
   "execution_count": 66,
   "id": "e387fbf1",
   "metadata": {},
   "outputs": [
    {
     "name": "stdout",
     "output_type": "stream",
     "text": [
      "3.9572879039876123\n"
     ]
    }
   ],
   "source": [
    "print(lic)"
   ]
  },
  {
   "cell_type": "code",
   "execution_count": 67,
   "id": "3cba55a9",
   "metadata": {},
   "outputs": [],
   "source": [
    "#Calcula el límite superior de control (LSC) utilizando la fórmula: media + (3 * desviacion) y almacena el resultado \n",
    "#en una variable llamada lsc.\n",
    "\n",
    "lsc = media + (3*desviacion)\n"
   ]
  },
  {
   "cell_type": "code",
   "execution_count": 68,
   "id": "3cedc55f",
   "metadata": {},
   "outputs": [
    {
     "name": "stdout",
     "output_type": "stream",
     "text": [
      "6.053381426681717\n"
     ]
    }
   ],
   "source": [
    "print(lsc)"
   ]
  },
  {
   "cell_type": "code",
   "execution_count": 69,
   "id": "9f1ddfb6",
   "metadata": {},
   "outputs": [
    {
     "name": "stdout",
     "output_type": "stream",
     "text": [
      "[0.   3.87]\n"
     ]
    }
   ],
   "source": [
    "# Filtra el array utilizando np.logical_or(condicion1, condicion2) para obtener los valores fuera de los límites de control.\n",
    "\n",
    "print(array[np.logical_or(array > lsc , array < lic)])\n"
   ]
  },
  {
   "cell_type": "code",
   "execution_count": 37,
   "id": "868e9374",
   "metadata": {},
   "outputs": [
    {
     "data": {
      "text/plain": [
       "2"
      ]
     },
     "execution_count": 37,
     "metadata": {},
     "output_type": "execute_result"
    }
   ],
   "source": []
  },
  {
   "cell_type": "code",
   "execution_count": null,
   "id": "940aa3b2",
   "metadata": {},
   "outputs": [],
   "source": []
  }
 ],
 "metadata": {
  "kernelspec": {
   "display_name": "Python 3 (ipykernel)",
   "language": "python",
   "name": "python3"
  },
  "language_info": {
   "codemirror_mode": {
    "name": "ipython",
    "version": 3
   },
   "file_extension": ".py",
   "mimetype": "text/x-python",
   "name": "python",
   "nbconvert_exporter": "python",
   "pygments_lexer": "ipython3",
   "version": "3.11.5"
  }
 },
 "nbformat": 4,
 "nbformat_minor": 5
}
