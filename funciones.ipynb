{
 "cells": [
  {
   "cell_type": "code",
   "execution_count": 2,
   "id": "15736b03",
   "metadata": {},
   "outputs": [],
   "source": [
    "def filtra_por_fecha(df, columna, fecha_inicio, fecha_fin):\n",
    "    \"\"\"\n",
    "    Genera un reporte pivoteado\n",
    "\n",
    "    Argumentos:\n",
    "    dataframe (df): DataFrame de origen.\n",
    "    Columna: columna a filtrar.    \n",
    "    fecha_inicio: fecha inicio de filtro.\n",
    "    fecha_fin: fecha inicio de filtro.\n",
    "\n",
    "    Retorno\n",
    "    DataFrame: DataFrame pivoteado.\n",
    "    \"\"\"\n",
    "    \n",
    "    \n",
    "    \n",
    "    fecha_inicio = pd.to_datetime(fecha_inicio, format=\"%Y-%m-%d\")\n",
    "    fecha_fin =  pd.to_datetime(fecha_fin, format=\"%Y-%m-%d\")\n",
    "    mascara = (pd.to_datetime(df[columna]).dt.date >= fecha_inicio.date())  & (pd.to_datetime(df[columna]).dt.date <= fecha_fin.date())\n",
    "    return df[mascara]\n",
    "\n",
    "\n"
   ]
  },
  {
   "cell_type": "code",
   "execution_count": 3,
   "id": "0f9963a8",
   "metadata": {},
   "outputs": [],
   "source": [
    "def generar_reporte(df, filas, columnas, valores, funcion_agrupadora):\n",
    "    \"\"\"\n",
    "    Genera un reporte pivoteado\n",
    "\n",
    "    Argumentos:\n",
    "    dataframe (df): DataFrame de origen.\n",
    "    filas: Nombre de la columna a utilizar o lista de columnas.\n",
    "    columnas:Nombre de la columna a utilizar o lista de columnas.\n",
    "    valores: Nombre de la columna a utilizar o lista de columnas.\n",
    "    funcion_agrupadora : Función agrupadora a utiliozar ()'sum', 'mean', 'count', etc).\n",
    "\n",
    "    Retorno\n",
    "    DataFrame: DataFrame pivoteado.\n",
    "    \"\"\"\n",
    "  \n",
    "    pivote = pd.pivot_table(df, values=valores,\n",
    "                            index=filas, columns=columnas, \n",
    "                            aggfunc=funcion_agrupadora, \n",
    "                            fill_value=0)\n",
    "    \n",
    "    return pivote"
   ]
  },
  {
   "cell_type": "code",
   "execution_count": null,
   "id": "32a8b975",
   "metadata": {},
   "outputs": [],
   "source": [
    "def escribir_en_base_de_datos(df, nombre_tabla, engine, if_exists='fail'):\n",
    "    \"\"\"\n",
    "    Escribe un DataFrame en una base de datos.\n",
    "\n",
    "    Argumentos:\n",
    "    dataframe (df): DataFrame de origen.\n",
    "    nombre_tabla: El nombre de la tabla que se guardara en la base datos.\n",
    "    engine: El motor de la base de datos.\n",
    "    if_exists puede ser 'fail', 'replace', 'append'. Por defecto, 'fail'.\n",
    "\n",
    "    Retorno\n",
    "    \n",
    "    \"\"\"\n",
    "    # Escribir el DataFrame en la base de datos\n",
    "    df.to_sql(nombre_tabla, engine, if_exists=if_exists, index=False)"
   ]
  }
 ],
 "metadata": {
  "kernelspec": {
   "display_name": "Python 3 (ipykernel)",
   "language": "python",
   "name": "python3"
  },
  "language_info": {
   "codemirror_mode": {
    "name": "ipython",
    "version": 3
   },
   "file_extension": ".py",
   "mimetype": "text/x-python",
   "name": "python",
   "nbconvert_exporter": "python",
   "pygments_lexer": "ipython3",
   "version": "3.11.5"
  }
 },
 "nbformat": 4,
 "nbformat_minor": 5
}
