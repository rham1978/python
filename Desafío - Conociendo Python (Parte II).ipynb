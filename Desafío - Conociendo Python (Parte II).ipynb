{
 "cells": [
  {
   "cell_type": "markdown",
   "id": "322a77de",
   "metadata": {},
   "source": [
    "1.- Ejercicio 1: Suma de números pares"
   ]
  },
  {
   "cell_type": "code",
   "execution_count": 1,
   "id": "759017d8",
   "metadata": {},
   "outputs": [
    {
     "name": "stdout",
     "output_type": "stream",
     "text": [
      "Ingrese Primer Número Entero:  5\n",
      "Ingrese Segundo Número Entero:  10\n",
      "La suma de los números pares es 14\n"
     ]
    }
   ],
   "source": [
    "while True:\n",
    "        suma = 0    \n",
    "        primer_numero = int(input(\"Ingrese Primer Número Entero:  \"))\n",
    "        segundo_numero = int(input(\"Ingrese Segundo Número Entero:  \"))\n",
    "        if segundo_numero >= primer_numero:      \n",
    "            lista = list(range(primer_numero+1, segundo_numero))    \n",
    "            for x in lista:                                                 #Determina si es número es par\n",
    "                if x % 2== 0:\n",
    "                    suma = suma + x\n",
    "            print (f\"La suma de los números pares es {suma}\")\n",
    "            break\n",
    "        \n",
    "        else:\n",
    "             print (\"Ingrese nuevamente los números\")  "
   ]
  },
  {
   "cell_type": "markdown",
   "id": "d27fda2d",
   "metadata": {},
   "source": [
    "Ejercicio 2: Calculadora de áreas"
   ]
  },
  {
   "cell_type": "code",
   "execution_count": 2,
   "id": "dcd04d95",
   "metadata": {},
   "outputs": [],
   "source": [
    "import math\n"
   ]
  },
  {
   "cell_type": "code",
   "execution_count": 3,
   "id": "9634fce8",
   "metadata": {},
   "outputs": [
    {
     "name": "stdout",
     "output_type": "stream",
     "text": [
      " Ingrese figura geométrica a calcular su área, las opciones disponibles son: cuadrado, triangulo,circulo:  cuadrado\n",
      "Ingrese medida en cm del lado del cuadrado:  3\n",
      "El área del cuadrado es 9.0 cm²\n"
     ]
    }
   ],
   "source": [
    "while True:\n",
    "    Tipo_figura = input( \" Ingrese figura geométrica a calcular su área, las opciones disponibles son: cuadrado, triangulo,circulo:  \")\n",
    "    \n",
    "    if Tipo_figura == 'cuadrado':\n",
    "        lado_c= float(input (\"Ingrese medida en cm del lado del cuadrado:  \"))\n",
    "        area_cuadrado= round(lado_c*lado_c,3)\n",
    "        print(f\"El área del cuadrado es {area_cuadrado} cm²\")\n",
    "        \n",
    "        break\n",
    "        \n",
    "    elif Tipo_figura == 'triangulo':\n",
    "        altura= float(input (\"Ingrese medida en cm de la altura del triangulo:  \"))\n",
    "        base= float(input (\"Ingrese medida en cm de la base del triangulo:  \"))\n",
    "        area_triangulo= round(altura*base*0.5,3)\n",
    "        print(f\"El área del triangulo es {area_triangulo} cm²\")\n",
    "        \n",
    "        break\n",
    "        \n",
    "    elif Tipo_figura == 'circulo':\n",
    "        radio= float(input (\"Ingrese medida en cm del radio del circulo:  \"))\n",
    "        area_circulo= round(2* math.pi*radio,3)\n",
    "        print (f\"El área del circulo es {area_circulo} cm²\")\n",
    "        \n",
    "        break\n",
    "        \n",
    "    else:\n",
    "        print (\"Debe seleccionar una de las 3 opciones\")    \n",
    "        \n",
    "        \n",
    "        \n",
    "        \n",
    "        \n",
    "\n"
   ]
  },
  {
   "cell_type": "markdown",
   "id": "61252ff2",
   "metadata": {},
   "source": [
    "Ejercicio 3: Adivina el número"
   ]
  },
  {
   "cell_type": "code",
   "execution_count": 5,
   "id": "bf88f5b9",
   "metadata": {},
   "outputs": [],
   "source": [
    "import random"
   ]
  },
  {
   "cell_type": "code",
   "execution_count": 6,
   "id": "2d94ccbc",
   "metadata": {},
   "outputs": [],
   "source": [
    "numero_aleatorio = random.randint(1,100) # Se obtiene número aleatorio "
   ]
  },
  {
   "cell_type": "code",
   "execution_count": 7,
   "id": "64f12cbe",
   "metadata": {},
   "outputs": [
    {
     "name": "stdout",
     "output_type": "stream",
     "text": [
      "38\n"
     ]
    }
   ],
   "source": [
    "print(numero_aleatorio)"
   ]
  },
  {
   "cell_type": "code",
   "execution_count": 8,
   "id": "d2204ab2",
   "metadata": {},
   "outputs": [
    {
     "name": "stdout",
     "output_type": "stream",
     "text": [
      " Ingrese número entero entre 1 y 100:  38\n",
      "Usted ha adivinado el número aleatorio\n"
     ]
    }
   ],
   "source": [
    "while True:\n",
    "    numero_seleccionado = int(input( \" Ingrese número entero entre 1 y 100:  \"))\n",
    "    \n",
    "    if numero_seleccionado == numero_aleatorio:\n",
    "        print(\"Usted ha adivinado el número aleatorio\")\n",
    "        \n",
    "        break\n",
    "        \n",
    "    elif numero_seleccionado > numero_aleatorio:\n",
    "         print(\"El número seleccionado es mayor al número aleatorio, trate con uno menor\")      \n",
    "             \n",
    "          \n",
    "    else:\n",
    "        print (\"El número seleccionado es menor al número aleatorio, trate con uno mayor\")    \n",
    "        "
   ]
  },
  {
   "cell_type": "markdown",
   "id": "0e65e1e3",
   "metadata": {},
   "source": [
    "Ejercicio 4 : ¡Maratón de caracoles!"
   ]
  },
  {
   "cell_type": "code",
   "execution_count": 9,
   "id": "4904dcba",
   "metadata": {},
   "outputs": [],
   "source": [
    "Inicio = 1"
   ]
  },
  {
   "cell_type": "code",
   "execution_count": 10,
   "id": "6d3d6c8e",
   "metadata": {},
   "outputs": [
    {
     "name": "stdout",
     "output_type": "stream",
     "text": [
      " Ingrese velocidad del caracol:  10\n"
     ]
    }
   ],
   "source": [
    " velocidad = int(input( \" Ingrese velocidad del caracol:  \"))"
   ]
  },
  {
   "cell_type": "code",
   "execution_count": 11,
   "id": "27a7fdec",
   "metadata": {},
   "outputs": [
    {
     "name": "stdout",
     "output_type": "stream",
     "text": [
      "__________🐌\n",
      "____________________🐌\n",
      "______________________________🐌\n",
      "________________________________________🐌\n",
      "__________________________________________________🐌\n",
      "____________________________________________________________🐌\n",
      "______________________________________________________________________🐌\n",
      "________________________________________________________________________________🐌\n",
      "__________________________________________________________________________________________🐌\n"
     ]
    }
   ],
   "source": [
    "while Inicio <= 9:                               # El caracol avanzara por cada ciclo en while.\n",
    "    pasos_caracol =\"_\"* velocidad*Inicio\n",
    "    caracol = pasos_caracol + '🐌' \n",
    "    print(caracol)\n",
    "    Inicio += 1"
   ]
  },
  {
   "cell_type": "code",
   "execution_count": null,
   "id": "66182ac0",
   "metadata": {},
   "outputs": [],
   "source": []
  },
  {
   "cell_type": "code",
   "execution_count": null,
   "id": "ef38d64e",
   "metadata": {},
   "outputs": [],
   "source": []
  }
 ],
 "metadata": {
  "kernelspec": {
   "display_name": "Python 3 (ipykernel)",
   "language": "python",
   "name": "python3"
  },
  "language_info": {
   "codemirror_mode": {
    "name": "ipython",
    "version": 3
   },
   "file_extension": ".py",
   "mimetype": "text/x-python",
   "name": "python",
   "nbconvert_exporter": "python",
   "pygments_lexer": "ipython3",
   "version": "3.11.5"
  }
 },
 "nbformat": 4,
 "nbformat_minor": 5
}
