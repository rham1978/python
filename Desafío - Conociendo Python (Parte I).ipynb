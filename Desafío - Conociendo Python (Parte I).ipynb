{
 "cells": [
  {
   "cell_type": "markdown",
   "id": "db7e0349",
   "metadata": {},
   "source": [
    "<left><h1>  <font color='black'> 1.- Calculando el salario semanal</font></h1></center>\n",
    "<hr>"
   ]
  },
  {
   "cell_type": "code",
   "execution_count": 11,
   "id": "4ebbf3ca",
   "metadata": {},
   "outputs": [],
   "source": [
    " #variable inicial sueldo base\n",
    "sueldo_base = 500"
   ]
  },
  {
   "cell_type": "code",
   "execution_count": 12,
   "id": "ec5c950b",
   "metadata": {},
   "outputs": [],
   "source": [
    " #variable inicial comision en porcentaje\n",
    "comision = 10"
   ]
  },
  {
   "cell_type": "code",
   "execution_count": 13,
   "id": "7db200d0",
   "metadata": {},
   "outputs": [
    {
     "name": "stdout",
     "output_type": "stream",
     "text": [
      "Introduce Monto de Ventas Totales:500\n"
     ]
    }
   ],
   "source": [
    "total_ventas = input(\"Introduce Monto de Ventas Totales:\")"
   ]
  },
  {
   "cell_type": "code",
   "execution_count": 14,
   "id": "7825e8ee",
   "metadata": {},
   "outputs": [],
   "source": [
    "Sueldo_total = float(sueldo_base)+ float(total_ventas)*float( comision/100) #Calcula sueldo total\n",
    "    \n",
    "    "
   ]
  },
  {
   "cell_type": "code",
   "execution_count": 15,
   "id": "f8f64449",
   "metadata": {},
   "outputs": [
    {
     "name": "stdout",
     "output_type": "stream",
     "text": [
      "Hola, su salario total es de $ 550.0!\n"
     ]
    }
   ],
   "source": [
    "print(f\"Hola, su salario total es de $ {Sueldo_total}!\")"
   ]
  },
  {
   "cell_type": "markdown",
   "id": "4656ed00",
   "metadata": {},
   "source": [
    "<left><h1>  <font color='black'> 2.- Bienvenido a la fruteria virtual</font></h1></center>\n",
    "<hr>"
   ]
  },
  {
   "cell_type": "code",
   "execution_count": 16,
   "id": "d6904276",
   "metadata": {},
   "outputs": [
    {
     "name": "stdout",
     "output_type": "stream",
     "text": [
      "{'fruta': None}\n"
     ]
    }
   ],
   "source": [
    "fruta_precio = ['fruta']\n",
    "catalogo_frutas= dict(zip(fruta_precio, [None]*len(fruta_precio)))\n",
    "print(catalogo_frutas)                                               #Crea diccionario vacio\n",
    "\n",
    "\n"
   ]
  },
  {
   "cell_type": "code",
   "execution_count": 17,
   "id": "12fc45f7",
   "metadata": {},
   "outputs": [],
   "source": [
    "catalogo_frutas = {'Manzana':200,'Peras':300,'Platanos':500,'Sandia':1000}  #Se agregan frutas y sus precios"
   ]
  },
  {
   "cell_type": "code",
   "execution_count": 18,
   "id": "70e0e6c7",
   "metadata": {},
   "outputs": [
    {
     "name": "stdout",
     "output_type": "stream",
     "text": [
      "{'Manzana': 200, 'Peras': 300, 'Platanos': 500, 'Sandia': 1000}\n"
     ]
    }
   ],
   "source": [
    "print(catalogo_frutas)"
   ]
  },
  {
   "cell_type": "code",
   "execution_count": 21,
   "id": "bc68ab43",
   "metadata": {},
   "outputs": [
    {
     "name": "stdout",
     "output_type": "stream",
     "text": [
      "Ingrese Fruta Buscada:  Manzana\n"
     ]
    }
   ],
   "source": [
    "fruta_buscada= input(\"Ingrese Fruta Buscada:  \")"
   ]
  },
  {
   "cell_type": "code",
   "execution_count": 22,
   "id": "418fd9b5",
   "metadata": {},
   "outputs": [
    {
     "name": "stdout",
     "output_type": "stream",
     "text": [
      "200\n"
     ]
    }
   ],
   "source": [
    "print(catalogo_frutas.get(fruta_buscada, 'No se la fruta en la tienda'))"
   ]
  },
  {
   "cell_type": "markdown",
   "id": "0acc0241",
   "metadata": {},
   "source": [
    "<left><h1>  <font color='black'> 3.- Bienvenido al casino</font></h1></center>\n",
    "<hr>"
   ]
  },
  {
   "cell_type": "code",
   "execution_count": 23,
   "id": "5cdb9cad",
   "metadata": {},
   "outputs": [],
   "source": [
    "import random"
   ]
  },
  {
   "cell_type": "code",
   "execution_count": 24,
   "id": "fa5b3504",
   "metadata": {},
   "outputs": [],
   "source": [
    "#Generar para dado 1 numero aleatorio entre 1 y 6\n",
    "dado_1 = random.randint(1,6)"
   ]
  },
  {
   "cell_type": "code",
   "execution_count": 25,
   "id": "2afc0559",
   "metadata": {},
   "outputs": [],
   "source": [
    "#Generar para dado 2 numero aleatorio entre 1 y 6\n",
    "dado_2 = random.randint(1,6)"
   ]
  },
  {
   "cell_type": "code",
   "execution_count": 26,
   "id": "76204bbf",
   "metadata": {},
   "outputs": [],
   "source": [
    "suma = int(dado_1 +  dado_2) # Suma valores obtenidos de ambos dados\n"
   ]
  },
  {
   "cell_type": "code",
   "execution_count": 27,
   "id": "48520a5c",
   "metadata": {},
   "outputs": [
    {
     "name": "stdout",
     "output_type": "stream",
     "text": [
      "Los valores obtenidos para los dados 1 y 2 respectivamente fueron 4 y 1\n",
      ".La suma total fue 5\n"
     ]
    }
   ],
   "source": [
    "print ( f\"Los valores obtenidos para los dados 1 y 2 respectivamente fueron {dado_1} y {dado_2}\\n.La suma total fue {suma}\") "
   ]
  },
  {
   "cell_type": "markdown",
   "id": "4dd02b08",
   "metadata": {},
   "source": [
    "<left><h1>  <font color='black'> 4.- Calculadora de chocolates</font></h1></center>\n",
    "<hr>"
   ]
  },
  {
   "cell_type": "code",
   "execution_count": 38,
   "id": "7c918d87",
   "metadata": {},
   "outputs": [
    {
     "name": "stdout",
     "output_type": "stream",
     "text": [
      "Ingrese su límite diario de calorías:400\n"
     ]
    }
   ],
   "source": [
    "limite_calorias = float(input(\"Ingrese su límite diario de calorías:\"))"
   ]
  },
  {
   "cell_type": "code",
   "execution_count": 39,
   "id": "acfb06df",
   "metadata": {},
   "outputs": [
    {
     "name": "stdout",
     "output_type": "stream",
     "text": [
      "Ingrese la cantidad calorias de una porción de chocalote:150\n"
     ]
    }
   ],
   "source": [
    "cantidad_calorias_porcion = float(input(\"Ingrese la cantidad calorias de una porción de chocalote:\"))"
   ]
  },
  {
   "cell_type": "code",
   "execution_count": 44,
   "id": "7cb5176e",
   "metadata": {},
   "outputs": [],
   "source": [
    "resultado = int(limite_calorias // cantidad_calorias_porcion) # calcula cantidad máxima de porciones a consumir"
   ]
  },
  {
   "cell_type": "code",
   "execution_count": 45,
   "id": "a20e6ee3",
   "metadata": {},
   "outputs": [
    {
     "name": "stdout",
     "output_type": "stream",
     "text": [
      "Su límite máximo diario de porciones de chocalate es 2 (porciones)\n"
     ]
    }
   ],
   "source": [
    "print(f\"Su límite máximo diario de porciones de chocalate es {resultado} (porciones)\")"
   ]
  },
  {
   "cell_type": "code",
   "execution_count": null,
   "id": "44673856",
   "metadata": {},
   "outputs": [],
   "source": []
  },
  {
   "cell_type": "code",
   "execution_count": null,
   "id": "039196d1",
   "metadata": {},
   "outputs": [],
   "source": []
  }
 ],
 "metadata": {
  "kernelspec": {
   "display_name": "Python 3 (ipykernel)",
   "language": "python",
   "name": "python3"
  },
  "language_info": {
   "codemirror_mode": {
    "name": "ipython",
    "version": 3
   },
   "file_extension": ".py",
   "mimetype": "text/x-python",
   "name": "python",
   "nbconvert_exporter": "python",
   "pygments_lexer": "ipython3",
   "version": "3.11.5"
  }
 },
 "nbformat": 4,
 "nbformat_minor": 5
}
